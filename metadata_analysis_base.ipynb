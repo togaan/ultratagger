{
 "cells": [
  {
   "cell_type": "markdown",
   "id": "1efd01e7",
   "metadata": {},
   "source": [
    "# UltraTagger Notebook Base\n",
    "Este es un notebook inicial listo para usar."
   ]
  },
  {
   "cell_type": "code",
   "execution_count": null,
   "id": "534fa88b",
   "metadata": {},
   "outputs": [],
   "source": [
    "print('Bienvenido a UltraTagger desde Colab!')"
   ]
  }
 ],
 "metadata": {
  "kernelspec": {
   "display_name": "Python 3",
   "name": "python3"
  },
  "language_info": {
   "name": "python",
   "version": "3.11"
  }
 },
 "nbformat": 4,
 "nbformat_minor": 5
}
